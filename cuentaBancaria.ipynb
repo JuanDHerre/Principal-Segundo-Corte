{
  "cells": [
    {
      "cell_type": "markdown",
      "metadata": {
        "id": "view-in-github",
        "colab_type": "text"
      },
      "source": [
        "<a href=\"https://colab.research.google.com/github/JuanDHerre/Principal-Segundo-Corte/blob/main/cuentaBancaria.ipynb\" target=\"_parent\"><img src=\"https://colab.research.google.com/assets/colab-badge.svg\" alt=\"Open In Colab\"/></a>"
      ]
    },
    {
      "cell_type": "markdown",
      "source": [
        "# Primero pasos implementación banco en línea"
      ],
      "metadata": {
        "id": "gBx6nEb0ZYXB"
      }
    },
    {
      "cell_type": "markdown",
      "source": [
        "## Implementación clases"
      ],
      "metadata": {
        "id": "i5EMIGfpZYXD"
      }
    },
    {
      "cell_type": "code",
      "source": [
        "class CuentaBancaria:\n",
        "    # Miembro de Datos\n",
        "    def __init__(self, titular, saldo=0):\n",
        "        self.titular = titular\n",
        "        self.saldo = saldo\n",
        "\n",
        "    # Función Miembro\n",
        "    def depositar(self, monto):\n",
        "        self.saldo += monto\n",
        "        print(f\"Depositado ${monto}. Nuevo saldo: ${self.saldo}\")\n",
        "\n",
        "    def retirar(self, monto):\n",
        "        if monto <= self.saldo:\n",
        "            self.saldo -= monto\n",
        "            print(f\"Retirado ${monto}. Nuevo saldo: ${self.saldo}\")\n",
        "        else:\n",
        "            print(\"¡Fondos insuficientes!\")\n",
        "\n",
        "    # Sobrecarga de Funciones\n",
        "    def transferir(self, cuenta_destino, monto):\n",
        "        self.retirar(monto)\n",
        "        cuenta_destino.depositar(monto)\n",
        "\n",
        "    # Sobrecarga de Operadores\n",
        "    def __str__(self):\n",
        "        return f\"Titular de la cuenta: {self.titular}, Saldo: ${self.saldo}\"\n",
        "\n",
        "class CuentaDeAhorros(CuentaBancaria):\n",
        "    # Herencia\n",
        "    def __init__(self, titular, saldo=0, tasa_de_interes=0.01):\n",
        "        super().__init__(titular, saldo)\n",
        "        self.tasa_de_interes = tasa_de_interes\n",
        "\n",
        "    def agregar_interes(self):\n",
        "        interes = self.saldo * self.tasa_de_interes\n",
        "        self.depositar(interes)\n",
        "        print(f\"Interés agregado: ${interes}\")"
      ],
      "outputs": [],
      "execution_count": null,
      "metadata": {
        "id": "78zGUpdCZYXD"
      }
    },
    {
      "cell_type": "markdown",
      "source": [
        "## ¿Funciona?"
      ],
      "metadata": {
        "id": "sWs8KwTOZYXF"
      }
    },
    {
      "cell_type": "code",
      "source": [
        "# Instanciación\n",
        "cuenta1 = CuentaBancaria(\"John Doe\", 1000)\n",
        "cuenta2 = CuentaDeAhorros(\"Jane Smith\", 500, 0.02)"
      ],
      "outputs": [],
      "execution_count": null,
      "metadata": {
        "id": "Md6SDRhMZYXF"
      }
    },
    {
      "cell_type": "code",
      "source": [
        "# Uso de las clases y sus métodos\n",
        "print(cuenta1)\n",
        "cuenta1.depositar(5000)\n",
        "cuenta1.retirar(200)"
      ],
      "outputs": [
        {
          "output_type": "stream",
          "name": "stdout",
          "text": [
            "Titular de la cuenta: John Doe, Saldo: $1000\n",
            "Depositado $5000. Nuevo saldo: $6000\n",
            "Retirado $200. Nuevo saldo: $5800\n"
          ]
        }
      ],
      "execution_count": null,
      "metadata": {
        "colab": {
          "base_uri": "https://localhost:8080/"
        },
        "id": "K6c0UKBxZYXF",
        "outputId": "53008d30-a2bf-46bf-80b9-bc20d06e09ae"
      }
    },
    {
      "cell_type": "code",
      "source": [
        "print(\"\\n\" + \"=\"*30 + \"\\n\")"
      ],
      "outputs": [
        {
          "output_type": "stream",
          "name": "stdout",
          "text": [
            "\n",
            "==============================\n",
            "\n"
          ]
        }
      ],
      "execution_count": null,
      "metadata": {
        "colab": {
          "base_uri": "https://localhost:8080/"
        },
        "id": "kYV0D1bVZYXF",
        "outputId": "b8b1b0b4-1329-4b0a-96c4-13a74ce2250c"
      }
    },
    {
      "cell_type": "code",
      "source": [
        "print(cuenta2)\n",
        "cuenta2.depositar(1200)\n",
        "cuenta2.agregar_interes()"
      ],
      "outputs": [
        {
          "output_type": "stream",
          "name": "stdout",
          "text": [
            "Titular de la cuenta: Jane Smith, Saldo: $1830.0\n",
            "Depositado $1200. Nuevo saldo: $3030.0\n",
            "Depositado $60.6. Nuevo saldo: $3090.6\n",
            "Interés agregado: $60.6\n"
          ]
        }
      ],
      "execution_count": null,
      "metadata": {
        "colab": {
          "base_uri": "https://localhost:8080/"
        },
        "id": "u8Flsak3ZYXG",
        "outputId": "517cbf2b-51a8-4b9a-ca8a-4ae1cce4c9fc"
      }
    },
    {
      "cell_type": "code",
      "source": [
        "print(\"\\n\" + \"=\"*30 + \"\\n\")"
      ],
      "outputs": [
        {
          "output_type": "stream",
          "name": "stdout",
          "text": [
            "\n",
            "==============================\n",
            "\n"
          ]
        }
      ],
      "execution_count": null,
      "metadata": {
        "colab": {
          "base_uri": "https://localhost:8080/"
        },
        "id": "SzU1ecAQZYXG",
        "outputId": "18f0b008-9a72-4cd0-85c5-a5f259071619"
      }
    },
    {
      "cell_type": "code",
      "source": [
        "# Uso de Sobrecarga de Funciones (método de transferencia)\n",
        "cuenta1.transferir(cuenta2, 300)"
      ],
      "outputs": [
        {
          "output_type": "stream",
          "name": "stdout",
          "text": [
            "Retirado $300. Nuevo saldo: $1000\n",
            "Depositado $300. Nuevo saldo: $1830.0\n"
          ]
        }
      ],
      "execution_count": null,
      "metadata": {
        "colab": {
          "base_uri": "https://localhost:8080/"
        },
        "id": "pIC_OTVvZYXG",
        "outputId": "51873f55-8473-4a43-e1ed-623246de661f"
      }
    },
    {
      "cell_type": "code",
      "source": [
        "# Estado final de las cuentas\n",
        "print(\"\\nEstado final de las cuentas:\")\n",
        "print(cuenta1)\n",
        "print(cuenta2)"
      ],
      "outputs": [
        {
          "output_type": "stream",
          "name": "stdout",
          "text": [
            "\n",
            "Estado final de las cuentas:\n",
            "Titular de la cuenta: John Doe, Saldo: $1000\n",
            "Titular de la cuenta: Jane Smith, Saldo: $1830.0\n"
          ]
        }
      ],
      "execution_count": null,
      "metadata": {
        "colab": {
          "base_uri": "https://localhost:8080/"
        },
        "id": "F08KE1G0ZYXH",
        "outputId": "fd10b8e0-624c-4854-d0a6-5ec947d1bee5"
      }
    },
    {
      "cell_type": "code",
      "source": [
        "frutas = [\"manzana\", \"banana\", \"cereza\"]\n",
        "for fruta in frutas:\n",
        "  print(fruta)\n",
        "\n",
        "for i in range (5):\n",
        "  print(i)"
      ],
      "metadata": {
        "colab": {
          "base_uri": "https://localhost:8080/"
        },
        "id": "Ud02KMVtU9XU",
        "outputId": "c1ac61d0-8968-48bc-bc96-c19b67768839"
      },
      "execution_count": null,
      "outputs": [
        {
          "output_type": "stream",
          "name": "stdout",
          "text": [
            "manzana\n",
            "banana\n",
            "cereza\n",
            "0\n",
            "1\n",
            "2\n",
            "3\n",
            "4\n"
          ]
        }
      ]
    },
    {
      "cell_type": "code",
      "source": [
        "contador = 0\n",
        "while contador <= 9:\n",
        "  print(contador)\n",
        "  contador += 1"
      ],
      "metadata": {
        "colab": {
          "base_uri": "https://localhost:8080/"
        },
        "id": "z9LQswuppB_o",
        "outputId": "41414c56-101b-4204-e0a4-0afa76549909"
      },
      "execution_count": null,
      "outputs": [
        {
          "output_type": "stream",
          "name": "stdout",
          "text": [
            "0\n",
            "1\n",
            "2\n",
            "3\n",
            "4\n",
            "5\n",
            "6\n",
            "7\n",
            "8\n",
            "9\n"
          ]
        }
      ]
    },
    {
      "cell_type": "code",
      "source": [
        "numero = int(input(\"introduce un numero:\"))\n",
        "if numero % 2 == 0:\n",
        "  print(\"el numero es par\")\n",
        "else:\n",
        "  print(\"el numero es impar\")"
      ],
      "metadata": {
        "colab": {
          "base_uri": "https://localhost:8080/"
        },
        "id": "yHJPwXLvtLDa",
        "outputId": "71f10b62-6001-4598-e7ff-103c7bfb27c8"
      },
      "execution_count": null,
      "outputs": [
        {
          "output_type": "stream",
          "name": "stdout",
          "text": [
            "introduce un numero:63\n",
            "el numero es impar\n"
          ]
        }
      ]
    },
    {
      "cell_type": "markdown",
      "source": [
        "Solucion Taller"
      ],
      "metadata": {
        "id": "Wgs5P8taBX4m"
      }
    },
    {
      "cell_type": "code",
      "source": [
        "import hashlib\n",
        "\n",
        "class Usuario:\n",
        "    _id_counter = 1\n",
        "\n",
        "    def __init__(self, nombre: str, email: str):\n",
        "        self.id = Usuario._id_counter\n",
        "        Usuario._id_counter += 1\n",
        "        self.nombre = nombre\n",
        "        self.email = email\n",
        "        self.password_hash = None\n",
        "\n",
        "    def registrarse(self):\n",
        "        print(f\"Usuario registrado: {self.nombre} ({self.email})\")\n",
        "\n",
        "    def set_password(self, password: str):\n",
        "        \"\"\"Guarda un hash de la contraseña para autenticación segura.\"\"\"\n",
        "        self.password_hash = hashlib.sha256(password.encode()).hexdigest()\n",
        "\n",
        "    def check_password(self, password: str) -> bool:\n",
        "        \"\"\"Verifica si la contraseña coincide con el hash almacenado.\"\"\"\n",
        "        return self.password_hash == hashlib.sha256(password.encode()).hexdigest()\n",
        "\n",
        "class CuentaBancaria:\n",
        "    def __init__(self, numero_cuenta: int, usuario: Usuario):\n",
        "        self.numero_cuenta = numero_cuenta\n",
        "        self.usuario = usuario\n",
        "        self.saldo = 0.0\n",
        "\n",
        "    def depositar(self, cantidad: float):\n",
        "        if cantidad <= 0:\n",
        "            print(\"No se puede depositar una cantidad negativa o cero.\")\n",
        "            return\n",
        "        self.saldo += cantidad\n",
        "        print(f\"Depósito exitoso: ${cantidad:.2f}. Nuevo saldo: ${self.saldo:.2f}\")\n",
        "\n",
        "    def retirar(self, cantidad: float):\n",
        "        if cantidad <= 0:\n",
        "            print(\"No se puede retirar una cantidad negativa o cero.\")\n",
        "            return\n",
        "        if cantidad > self.saldo:\n",
        "            print(\"Fondos insuficientes.\")\n",
        "            return\n",
        "        self.saldo -= cantidad\n",
        "        print(f\"Retiro exitoso: ${cantidad:.2f}. Saldo restante: ${self.saldo:.2f}\")\n",
        "\n",
        "    def consultar_saldo(self):\n",
        "        print(f\"🔎 Saldo de la cuenta {self.numero_cuenta}: ${self.saldo:.2f}\")\n",
        "        return self.saldo\n",
        "\n",
        "import random\n",
        "\n",
        "class Banco:\n",
        "    def __init__(self, nombre: str):\n",
        "        self.nombre = nombre\n",
        "        self.cuentas = []\n",
        "\n",
        "    def abrir_cuenta(self, usuario: Usuario):\n",
        "        numero_cuenta = random.randint(10000, 99999)\n",
        "        nueva_cuenta = CuentaBancaria(numero_cuenta, usuario)\n",
        "        self.cuentas.append(nueva_cuenta)\n",
        "        print(f\"Cuenta {numero_cuenta} abierta para {usuario.nombre}.\")\n",
        "        return nueva_cuenta\n",
        "\n",
        "    def buscar_cuenta(self, numero_cuenta: int):\n",
        "        for cuenta in self.cuentas:\n",
        "            if cuenta.numero_cuenta == numero_cuenta:\n",
        "                return cuenta\n",
        "        print(\"Cuenta no encontrada.\")\n",
        "        return None\n",
        "\n",
        "    def realizar_transferencia(self, cuenta_origen: CuentaBancaria, cuenta_destino: CuentaBancaria, cantidad: float):\n",
        "        print(f\"Transferencia de ${cantidad:.2f} de {cuenta_origen.usuario.nombre} → {cuenta_destino.usuario.nombre}\")\n",
        "        if cuenta_origen.saldo >= cantidad:\n",
        "            cuenta_origen.retirar(cantidad)\n",
        "            cuenta_destino.depositar(cantidad)\n",
        "            print(\"Transferencia completada.\")\n",
        "        else:\n",
        "            print(\"Fondos insuficientes para realizar la transferencia.\")\n",
        "\n",
        "banco = Banco(\"Banco Central Python\")\n",
        "\n",
        "usuarios = []\n",
        "cuentas = []\n",
        "\n",
        "for i in range(1, 11):\n",
        "    u = Usuario(f\"Usuario{i}\", f\"usuario{i}@correo.com\")\n",
        "    u.registrarse()\n",
        "    u.set_password(\"clave123\")\n",
        "    usuarios.append(u)\n",
        "    cuenta = banco.abrir_cuenta(u)\n",
        "    cuentas.append(cuenta)\n",
        "\n",
        "for cuenta in cuentas:\n",
        "    cuenta.depositar(random.randint(100, 1000))\n",
        "    cuenta.retirar(random.randint(50, 300))\n",
        "    cuenta.consultar_saldo()\n",
        "\n",
        "for _ in range(10):\n",
        "    origen, destino = random.sample(cuentas, 2)\n",
        "    monto = random.randint(20, 200)\n",
        "    banco.realizar_transferencia(origen, destino, monto)\n",
        "\n"
      ],
      "metadata": {
        "colab": {
          "base_uri": "https://localhost:8080/"
        },
        "id": "3k6bNzBzBa9d",
        "outputId": "c0101ecf-a376-45ee-d931-b975415c85f3"
      },
      "execution_count": 1,
      "outputs": [
        {
          "output_type": "stream",
          "name": "stdout",
          "text": [
            "Usuario registrado: Usuario1 (usuario1@correo.com)\n",
            "Cuenta 79476 abierta para Usuario1.\n",
            "Usuario registrado: Usuario2 (usuario2@correo.com)\n",
            "Cuenta 69544 abierta para Usuario2.\n",
            "Usuario registrado: Usuario3 (usuario3@correo.com)\n",
            "Cuenta 22744 abierta para Usuario3.\n",
            "Usuario registrado: Usuario4 (usuario4@correo.com)\n",
            "Cuenta 74485 abierta para Usuario4.\n",
            "Usuario registrado: Usuario5 (usuario5@correo.com)\n",
            "Cuenta 88231 abierta para Usuario5.\n",
            "Usuario registrado: Usuario6 (usuario6@correo.com)\n",
            "Cuenta 81486 abierta para Usuario6.\n",
            "Usuario registrado: Usuario7 (usuario7@correo.com)\n",
            "Cuenta 28047 abierta para Usuario7.\n",
            "Usuario registrado: Usuario8 (usuario8@correo.com)\n",
            "Cuenta 53995 abierta para Usuario8.\n",
            "Usuario registrado: Usuario9 (usuario9@correo.com)\n",
            "Cuenta 96206 abierta para Usuario9.\n",
            "Usuario registrado: Usuario10 (usuario10@correo.com)\n",
            "Cuenta 25445 abierta para Usuario10.\n",
            "Depósito exitoso: $996.00. Nuevo saldo: $996.00\n",
            "Retiro exitoso: $283.00. Saldo restante: $713.00\n",
            "🔎 Saldo de la cuenta 79476: $713.00\n",
            "Depósito exitoso: $939.00. Nuevo saldo: $939.00\n",
            "Retiro exitoso: $160.00. Saldo restante: $779.00\n",
            "🔎 Saldo de la cuenta 69544: $779.00\n",
            "Depósito exitoso: $724.00. Nuevo saldo: $724.00\n",
            "Retiro exitoso: $264.00. Saldo restante: $460.00\n",
            "🔎 Saldo de la cuenta 22744: $460.00\n",
            "Depósito exitoso: $997.00. Nuevo saldo: $997.00\n",
            "Retiro exitoso: $81.00. Saldo restante: $916.00\n",
            "🔎 Saldo de la cuenta 74485: $916.00\n",
            "Depósito exitoso: $802.00. Nuevo saldo: $802.00\n",
            "Retiro exitoso: $252.00. Saldo restante: $550.00\n",
            "🔎 Saldo de la cuenta 88231: $550.00\n",
            "Depósito exitoso: $408.00. Nuevo saldo: $408.00\n",
            "Retiro exitoso: $184.00. Saldo restante: $224.00\n",
            "🔎 Saldo de la cuenta 81486: $224.00\n",
            "Depósito exitoso: $246.00. Nuevo saldo: $246.00\n",
            "Retiro exitoso: $223.00. Saldo restante: $23.00\n",
            "🔎 Saldo de la cuenta 28047: $23.00\n",
            "Depósito exitoso: $813.00. Nuevo saldo: $813.00\n",
            "Retiro exitoso: $228.00. Saldo restante: $585.00\n",
            "🔎 Saldo de la cuenta 53995: $585.00\n",
            "Depósito exitoso: $808.00. Nuevo saldo: $808.00\n",
            "Retiro exitoso: $179.00. Saldo restante: $629.00\n",
            "🔎 Saldo de la cuenta 96206: $629.00\n",
            "Depósito exitoso: $242.00. Nuevo saldo: $242.00\n",
            "Retiro exitoso: $80.00. Saldo restante: $162.00\n",
            "🔎 Saldo de la cuenta 25445: $162.00\n",
            "Transferencia de $163.00 de Usuario3 → Usuario4\n",
            "Retiro exitoso: $163.00. Saldo restante: $297.00\n",
            "Depósito exitoso: $163.00. Nuevo saldo: $1079.00\n",
            "Transferencia completada.\n",
            "Transferencia de $128.00 de Usuario7 → Usuario3\n",
            "Fondos insuficientes para realizar la transferencia.\n",
            "Transferencia de $129.00 de Usuario7 → Usuario8\n",
            "Fondos insuficientes para realizar la transferencia.\n",
            "Transferencia de $44.00 de Usuario6 → Usuario5\n",
            "Retiro exitoso: $44.00. Saldo restante: $180.00\n",
            "Depósito exitoso: $44.00. Nuevo saldo: $594.00\n",
            "Transferencia completada.\n",
            "Transferencia de $185.00 de Usuario3 → Usuario6\n",
            "Retiro exitoso: $185.00. Saldo restante: $112.00\n",
            "Depósito exitoso: $185.00. Nuevo saldo: $365.00\n",
            "Transferencia completada.\n",
            "Transferencia de $128.00 de Usuario5 → Usuario4\n",
            "Retiro exitoso: $128.00. Saldo restante: $466.00\n",
            "Depósito exitoso: $128.00. Nuevo saldo: $1207.00\n",
            "Transferencia completada.\n",
            "Transferencia de $194.00 de Usuario4 → Usuario1\n",
            "Retiro exitoso: $194.00. Saldo restante: $1013.00\n",
            "Depósito exitoso: $194.00. Nuevo saldo: $907.00\n",
            "Transferencia completada.\n",
            "Transferencia de $43.00 de Usuario1 → Usuario8\n",
            "Retiro exitoso: $43.00. Saldo restante: $864.00\n",
            "Depósito exitoso: $43.00. Nuevo saldo: $628.00\n",
            "Transferencia completada.\n",
            "Transferencia de $140.00 de Usuario3 → Usuario6\n",
            "Fondos insuficientes para realizar la transferencia.\n",
            "Transferencia de $107.00 de Usuario5 → Usuario6\n",
            "Retiro exitoso: $107.00. Saldo restante: $359.00\n",
            "Depósito exitoso: $107.00. Nuevo saldo: $472.00\n",
            "Transferencia completada.\n"
          ]
        }
      ]
    }
  ],
  "metadata": {
    "kernelspec": {
      "display_name": "tf-env-cpu",
      "language": "python",
      "name": "tf-env-cpu"
    },
    "language_info": {
      "codemirror_mode": {
        "name": "ipython",
        "version": 3
      },
      "file_extension": ".py",
      "mimetype": "text/x-python",
      "name": "python",
      "nbconvert_exporter": "python",
      "pygments_lexer": "ipython3",
      "version": "3.10.13"
    },
    "nteract": {
      "version": "nteract-front-end@1.0.0"
    },
    "colab": {
      "provenance": [],
      "include_colab_link": true
    }
  },
  "nbformat": 4,
  "nbformat_minor": 0
}