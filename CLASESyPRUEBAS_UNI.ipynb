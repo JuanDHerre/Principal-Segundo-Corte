{
  "nbformat": 4,
  "nbformat_minor": 0,
  "metadata": {
    "colab": {
      "provenance": [],
      "authorship_tag": "ABX9TyNZPXOOqmzbfaMjaebl3rYe",
      "include_colab_link": true
    },
    "kernelspec": {
      "name": "python3",
      "display_name": "Python 3"
    },
    "language_info": {
      "name": "python"
    }
  },
  "cells": [
    {
      "cell_type": "markdown",
      "metadata": {
        "id": "view-in-github",
        "colab_type": "text"
      },
      "source": [
        "<a href=\"https://colab.research.google.com/github/JuanDHerre/Principal-Segundo-Corte/blob/main/CLASESyPRUEBAS_UNI.ipynb\" target=\"_parent\"><img src=\"https://colab.research.google.com/assets/colab-badge.svg\" alt=\"Open In Colab\"/></a>"
      ]
    },
    {
      "cell_type": "code",
      "execution_count": null,
      "metadata": {
        "id": "5FSJ_IVfKM5W"
      },
      "outputs": [],
      "source": [
        "from google.colab import drive\n",
        "drive.mount('/content/drive')"
      ]
    },
    {
      "cell_type": "code",
      "source": [
        "from datetime import date"
      ],
      "metadata": {
        "id": "Z1Y_TfgZ4Q5n"
      },
      "execution_count": null,
      "outputs": []
    },
    {
      "cell_type": "code",
      "source": [
        "class Person:\n",
        "    def __init__(self, n, e, b):\n",
        "        self.__name = n\n",
        "        self.email = None\n",
        "        self.set_email(e)\n",
        "        self.__age = self.calculateAge(b)\n",
        "\n",
        "    def calculateAge(self, b):\n",
        "        days_in_year = 365.2425\n",
        "        age = int((date.today() - b).days / days_in_year)\n",
        "        return age\n",
        "\n",
        "    def set_email(self, e):\n",
        "        if e.count(\"@\") == 1 and e.find(\"@\") >= 1 and e.find(\"@\") + 2 < e.rfind(\".\"):\n",
        "            self.__email = e\n",
        "        else:\n",
        "            print(\"Invalid Email\", e)\n",
        "            self.__email = None\n",
        "\n",
        "    def get_email(self):\n",
        "        return self.__email\n",
        "\n",
        "    def get_name(self):\n",
        "        return self.__name\n",
        "\n",
        "    def set_name(self, n):\n",
        "        self.__name = n\n",
        "\n",
        "    def get_age(self):\n",
        "        return self.__age\n",
        "\n",
        "    def __eq__(self, other):\n",
        "        return self.__name == other.__name\n",
        "\n",
        "    def __str__(self):\n",
        "        return (\"name: \" + self.__name + '\\t email: ' + self.__email + '\\t age: ' + str(self.__age))"
      ],
      "metadata": {
        "id": "Vr58H7MI4XPx"
      },
      "execution_count": null,
      "outputs": []
    },
    {
      "cell_type": "code",
      "source": [
        "class Student(Person):\n",
        "    def __init__(self, n, e, b, ID):\n",
        "        super().__init__(n, e, b)  # Usando super() para llamar al constructor de Person\n",
        "        self.__SID = ID\n",
        "        self.__Courses = dict()\n",
        "        self.__AverageGrade = 0\n",
        "\n",
        "    def addCourses(self, CourseID, result):\n",
        "        self.__Courses[CourseID] = result\n",
        "        self.calculateAverage()\n",
        "\n",
        "    def calculateAverage(self):\n",
        "        if len(self.__Courses) > 0:\n",
        "            total = sum(self.__Courses.values())\n",
        "            self.__AverageGrade = total / len(self.__Courses)\n",
        "        else:\n",
        "            self.__AverageGrade = 0\n",
        "\n",
        "    def get_AverageGrade(self):\n",
        "        return self.__AverageGrade\n",
        "\n",
        "    def get_SID(self):\n",
        "        return self.__SID\n",
        "\n",
        "    def get_Courses(self):\n",
        "        return self.__Courses\n",
        "\n",
        "    def set_SID(self, ID):\n",
        "        self.__SID = ID\n",
        "\n",
        "    def __str__(self):\n",
        "        return (super().__str__() + '\\t SID: ' + str(self.__SID) + '\\t Courses: ' + str(self.__Courses) + '\\t AverageGrade: ' + str(self.__AverageGrade))\n",
        "\n",
        "    def __eq__(self, other):\n",
        "        return isinstance(other, Student) and self.__SID == other.__SID  # Compara por ID\n",
        "\n",
        "    def __lt__(self, other):\n",
        "        return self.__AverageGrade < other.__AverageGrade"
      ],
      "metadata": {
        "id": "A1_NdsCR4e0W"
      },
      "execution_count": null,
      "outputs": []
    },
    {
      "cell_type": "code",
      "source": [
        "# Lista de Estudiantes\n",
        "students_list = []\n",
        "\n",
        "S1 = Student(\"khouloud\", \"kh@hotmail.com\", date(1995, 2, 3), 123)\n",
        "S1.addCourses(\"CS120\", 90)\n",
        "S1.addCourses(\"IT320\", 95)\n",
        "S1.addCourses(\"CS100\", 95)\n",
        "\n",
        "S2 = Student(\"khadija\", \"khadija@gmail.com\", date(1995, 9, 3), 232)\n",
        "S2.addCourses(\"CS120\", 80)\n",
        "S2.addCourses(\"IT320\", 75)\n",
        "S2.addCourses(\"CS100\", 95)\n",
        "\n",
        "S3 = Student(\"khaled\", \"khaled@gamil.com\", date(1999, 5, 6), 235)\n",
        "S3.addCourses(\"CS120\", 75)\n",
        "S3.addCourses(\"IT320\", 88)\n",
        "S3.addCourses(\"CS100\", 90)\n",
        "\n",
        "students_list.append(S1)\n",
        "students_list.append(S2)\n",
        "students_list.append(S3)\n",
        "\n",
        "# Búsqueda\n",
        "searchs = Student(\"Khadija\", \"khadija@gmail.com\", date(1995, 9, 3), 232)\n",
        "\n",
        "if students_list.count(searchs) > 0:\n",
        "    print(\"the student is found\")\n",
        "else:\n",
        "    print(\"the student is NOT found\")\n",
        "\n",
        "students_list.sort()\n",
        "for p in students_list:\n",
        "    print(p)"
      ],
      "metadata": {
        "id": "UFCSFP7V5dm2"
      },
      "execution_count": null,
      "outputs": []
    },
    {
      "cell_type": "code",
      "source": [
        "# Crear el archivo classes.py\n",
        "\n",
        "classes_code = \"\"\"\n",
        "\n",
        "from datetime import date\n",
        "\n",
        "class Person:\n",
        "    def __init__(self, n, e, b):\n",
        "        self.__name = n\n",
        "        self.__email = None  # Inicializar el atributo email aquí\n",
        "        self.set_email(e)  # Llamar al método para validar y establecer el email\n",
        "        self.__age = self.calculateAge(b)\n",
        "\n",
        "    def calculateAge(self, b):\n",
        "        days_in_year = 365.2425\n",
        "        age = int((date.today() - b).days / days_in_year)\n",
        "        return age\n",
        "\n",
        "    def set_email(self, e):\n",
        "        if e.count(\"@\") == 1 and e.find(\"@\") >= 1 and e.find(\"@\") + 2 < e.rfind(\".\"):\n",
        "            self.__email = e\n",
        "        else:\n",
        "            print(\"Invalid Email\", e)\n",
        "\n",
        "    def get_email(self):\n",
        "        return self.__email\n",
        "\n",
        "    def get_name(self):\n",
        "        return self.__name\n",
        "\n",
        "    def set_name(self, n):\n",
        "        self.__name = n\n",
        "\n",
        "    def get_age(self):\n",
        "        return self.__age\n",
        "\n",
        "    def __eq__(self, other):\n",
        "        return self.__name == other.__name\n",
        "\n",
        "    def __str__(self):\n",
        "        return (\"name: \" + self.__name + '\\t email: ' + str(self.__email) + '\\t age: ' + str(self.__age))\n",
        "\n",
        "\n",
        "class Student(Person):\n",
        "    def __init__(self, n, e, b, ID):\n",
        "        super().__init__(n, e, b)\n",
        "        self.__SID = ID\n",
        "        self.__Courses = dict()\n",
        "        self.__AverageGrade = 0\n",
        "\n",
        "    def addCourses(self, CourseID, result):\n",
        "        self.__Courses[CourseID] = result\n",
        "        self.calculateAverage()\n",
        "\n",
        "    def calculateAverage(self):\n",
        "        if len(self.__Courses) > 0:\n",
        "            total = sum(self.__Courses.values())\n",
        "            self.__AverageGrade = total / len(self.__Courses)\n",
        "        else:\n",
        "            self.__AverageGrade = 0\n",
        "\n",
        "    def get_AverageGrade(self):\n",
        "        return self.__AverageGrade\n",
        "\n",
        "    def get_SID(self):\n",
        "        return self.__SID\n",
        "\n",
        "    def get_Courses(self):\n",
        "        return self.__Courses\n",
        "\n",
        "    def set_SID(self, ID):\n",
        "        self.__SID = ID\n",
        "\n",
        "    def __str__(self):\n",
        "        return (super().__str__() + '\\t SID: ' + str(self.__SID) + '\\t Courses: ' + str(self.__Courses) + '\\t AverageGrade: ' + str(self.__AverageGrade))\n",
        "\n",
        "    def __eq__(self, other):\n",
        "        return isinstance(other, Student) and self.__SID == other.__SID\n",
        "\n",
        "    def __lt__(self, other):\n",
        "        return self.__AverageGrade < other.__AverageGrade\n",
        "\n",
        "\"\"\"\n",
        "\n",
        "with open('classes.py', 'w') as f:\n",
        "    f.write(classes_code)"
      ],
      "metadata": {
        "id": "9SA1kaeK5irw"
      },
      "execution_count": null,
      "outputs": []
    },
    {
      "cell_type": "code",
      "source": [
        "# Crear el archivo test_classes.py\n",
        "\n",
        "test_code = \"\"\"\n",
        "import pytest\n",
        "from datetime import date\n",
        "from classes import Person, Student\n",
        "\n",
        "# Pruebas para la clase Person\n",
        "def test_person_creation():\n",
        "    person = Person(\"John Doe\", \"john.doe@example.com\", date(1990, 5, 20))\n",
        "    assert person.get_name() == \"John Doe\"\n",
        "    assert person.get_email() == \"john.doe@example.com\"\n",
        "    assert person.get_age() == person.calculateAge(date(1990, 5, 20))\n",
        "\n",
        "def test_person_email_validation():\n",
        "    person = Person(\"John Doe\", \"invalid_email\", date(1992, 3, 15))\n",
        "    assert person.get_email() is None  # No debe aceptar un correo inválido\n",
        "\n",
        "# Pruebas para la clase Student\n",
        "def test_student_creation():\n",
        "    student = Student(\"Alice\", \"alice@example.com\", date(2000, 1, 1), 12345)\n",
        "    assert student.get_name() == \"Alice\"\n",
        "    assert student.get_SID() == 12345\n",
        "    assert student.get_AverageGrade() == 0.0   # Recién creado no tiene notas\n",
        "\n",
        "def test_student_add_courses():\n",
        "    student = Student(\"Bob\", \"bob@example.com\", date(1998, 6, 12), 67890)\n",
        "    student.addCourses(\"CS101\", 90)\n",
        "    student.addCourses(\"Math101\", 85)\n",
        "    assert len(student.get_Courses()) == 2\n",
        "    assert student.get_AverageGrade() == 87.5\n",
        "\"\"\"\n",
        "\n",
        "# Escribir el código en el archivo test_classes.py\n",
        "with open('test_classes.py', 'w') as f:\n",
        "    f.write(test_code)"
      ],
      "metadata": {
        "id": "UCwaqBmP5qy2"
      },
      "execution_count": null,
      "outputs": []
    },
    {
      "cell_type": "code",
      "source": [
        "!ls"
      ],
      "metadata": {
        "id": "zkOd8pZ65uC-"
      },
      "execution_count": null,
      "outputs": []
    },
    {
      "cell_type": "code",
      "source": [
        "!pip install pytest"
      ],
      "metadata": {
        "id": "R-qrhHg25uyW"
      },
      "execution_count": null,
      "outputs": []
    },
    {
      "cell_type": "code",
      "source": [
        "!pytest test_classes.py"
      ],
      "metadata": {
        "id": "dh5zeBK55yTO"
      },
      "execution_count": null,
      "outputs": []
    }
  ]
}